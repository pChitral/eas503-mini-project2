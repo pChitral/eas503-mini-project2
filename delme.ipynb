{
 "cells": [
  {
   "cell_type": "code",
   "execution_count": 1,
   "metadata": {},
   "outputs": [],
   "source": [
    "def step2_create_country_to_countryid_dictionary(normalized_database_filename):\n",
    "\n",
    "    # BEGIN SOLUTION\n",
    "    # Fetching all the Regions from our Region table\n",
    "    conn = create_connection(normalized_database_filename)\n",
    "    sql_statement = \"SELECT Country, CountryID from country\"\n",
    "    countries_from_table = execute_sql_statement(sql_statement, conn)\n",
    "\n",
    "    country_to_countryid_dictionary = {}\n",
    "\n",
    "    for i in range(len(countries_from_table)):\n",
    "        country_to_countryid_dictionary[countries_from_table[i]\n",
    "                                      [0]] = countries_from_table[i][1]\n",
    "\n",
    "    return country_to_countryid_dictionary\n",
    "\n",
    "    # END SOLUTION"
   ]
  },
  {
   "cell_type": "code",
   "execution_count": null,
   "metadata": {},
   "outputs": [],
   "source": [
    "def step4_create_country_to_countryid_dictionary(normalized_database_filename):\n",
    "\n",
    "    # BEGIN SOLUTION\n",
    "    pass\n",
    "\n",
    "    # END SOLUTION"
   ]
  }
 ],
 "metadata": {
  "kernelspec": {
   "display_name": "Python 3.9.12 ('base')",
   "language": "python",
   "name": "python3"
  },
  "language_info": {
   "codemirror_mode": {
    "name": "ipython",
    "version": 3
   },
   "file_extension": ".py",
   "mimetype": "text/x-python",
   "name": "python",
   "nbconvert_exporter": "python",
   "pygments_lexer": "ipython3",
   "version": "3.9.12"
  },
  "orig_nbformat": 4,
  "vscode": {
   "interpreter": {
    "hash": "cd78fef2128015050713e82ca51c6520b11aee7c9ee8df750520bbbc7384cbaa"
   }
  }
 },
 "nbformat": 4,
 "nbformat_minor": 2
}
