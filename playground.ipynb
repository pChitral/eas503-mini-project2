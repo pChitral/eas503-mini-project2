{
 "cells": [
  {
   "cell_type": "code",
   "execution_count": 2,
   "metadata": {},
   "outputs": [
    {
     "data": {
      "text/plain": [
       "['British Isles',\n",
       " 'Central America',\n",
       " 'Eastern Europe',\n",
       " 'North America',\n",
       " 'Northern Europe',\n",
       " 'Scandinavia',\n",
       " 'South America',\n",
       " 'Southern Europe',\n",
       " 'Western Europe']"
      ]
     },
     "execution_count": 2,
     "metadata": {},
     "output_type": "execute_result"
    }
   ],
   "source": [
    "region_list = []\n",
    "with open(\"data.csv\") as file:\n",
    "    i = iter(file)\n",
    "    i.__next__()\n",
    "    for line in i:\n",
    "        if line.split(\"\\t\")[4] not in region_list:\n",
    "            region_list.append(line.split(\"\\t\")[4])\n",
    "        else: continue\n",
    "region_list.sort()\n",
    "region_list\n"
   ]
  },
  {
   "cell_type": "code",
   "execution_count": 3,
   "metadata": {},
   "outputs": [],
   "source": [
    "import sqlite3\n",
    "from sqlite3 import Error\n",
    "def create_connection(db_file, delete_db=False):\n",
    "    \n",
    "    import os\n",
    "    if delete_db and os.path.exists(db_file):\n",
    "        os.remove(db_file)\n",
    "\n",
    "    conn = None\n",
    "    try:\n",
    "        conn = sqlite3.connect(db_file)\n",
    "        conn.execute(\"PRAGMA foreign_keys = 1\")\n",
    "    except Error as e:\n",
    "        print(e)\n",
    "\n",
    "    return conn\n",
    "\n",
    "\n",
    "def create_table(conn, create_table_sql, drop_table_name=None):\n",
    "    \n",
    "    if drop_table_name: # You can optionally pass drop_table_name to drop the table. \n",
    "        try:\n",
    "            c = conn.cursor()\n",
    "            c.execute(\"\"\"DROP TABLE IF EXISTS %s\"\"\" % (drop_table_name))\n",
    "        except Error as e:\n",
    "            print(e)\n",
    "    \n",
    "    try:\n",
    "        c = conn.cursor()\n",
    "        c.execute(create_table_sql)\n",
    "    except Error as e:\n",
    "        print(e)\n",
    "        \n",
    "def execute_sql_statement(sql_statement, conn):\n",
    "    cur = conn.cursor()\n",
    "    cur.execute(sql_statement)\n",
    "\n",
    "    rows = cur.fetchall()\n",
    "\n",
    "    return rows"
   ]
  },
  {
   "cell_type": "code",
   "execution_count": 4,
   "metadata": {},
   "outputs": [],
   "source": [
    "create_table_sql = \"\"\"CREATE TABLE [Region] (\n",
    "    [RegionID] Integer not null primary key,\n",
    "    [Region] Text not null\n",
    "    );\n",
    "    \"\"\"\n",
    "conn= create_connection(\"hello.db\", True)\n",
    "create_table(conn, create_table_sql)"
   ]
  },
  {
   "cell_type": "code",
   "execution_count": 5,
   "metadata": {},
   "outputs": [],
   "source": [
    "def insert_region(conn, values):\n",
    "    \n",
    "    sql = ''' INSERT INTO Region(Region)\n",
    "            VALUES(?) '''\n",
    "    cur = conn.cursor()\n",
    "    cur.execute(sql, values)\n",
    "    return cur.lastrowid\n",
    "    \n",
    "# That the insert_region function is ready, we can start putting in values in the table as follows!\n",
    "conn_norm = create_connection(\"hello.db\")\n",
    "with conn_norm:\n",
    "    for region in region_list:\n",
    "        insert_region(conn_norm, (region, ))"
   ]
  },
  {
   "cell_type": "code",
   "execution_count": 7,
   "metadata": {},
   "outputs": [
    {
     "data": {
      "text/plain": [
       "{'British Isles': 1,\n",
       " 'Central America': 2,\n",
       " 'Eastern Europe': 3,\n",
       " 'North America': 4,\n",
       " 'Northern Europe': 5,\n",
       " 'Scandinavia': 6,\n",
       " 'South America': 7,\n",
       " 'Southern Europe': 8,\n",
       " 'Western Europe': 9}"
      ]
     },
     "execution_count": 7,
     "metadata": {},
     "output_type": "execute_result"
    }
   ],
   "source": [
    "# Fetching all the degrees in a list\n",
    "sql_statement = \"SELECT Region, RegionID from Region\"\n",
    "regions_from_table = execute_sql_statement(sql_statement, conn)\n",
    "regions_from_table\n",
    "\n",
    "region_to_regionid_dictionary = {}\n",
    "\n",
    "for i in range(len(regions_from_table)):\n",
    "    region_to_regionid_dictionary[regions_from_table[i][0]] = regions_from_table[i][1]\n",
    "    \n",
    "region_to_regionid_dictionary"
   ]
  },
  {
   "cell_type": "code",
   "execution_count": null,
   "metadata": {},
   "outputs": [],
   "source": []
  }
 ],
 "metadata": {
  "kernelspec": {
   "display_name": "Python 3.9.12 ('base')",
   "language": "python",
   "name": "python3"
  },
  "language_info": {
   "codemirror_mode": {
    "name": "ipython",
    "version": 3
   },
   "file_extension": ".py",
   "mimetype": "text/x-python",
   "name": "python",
   "nbconvert_exporter": "python",
   "pygments_lexer": "ipython3",
   "version": "3.9.12"
  },
  "orig_nbformat": 4,
  "vscode": {
   "interpreter": {
    "hash": "cd78fef2128015050713e82ca51c6520b11aee7c9ee8df750520bbbc7384cbaa"
   }
  }
 },
 "nbformat": 4,
 "nbformat_minor": 2
}
