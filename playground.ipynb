{
 "cells": [
  {
   "cell_type": "code",
   "execution_count": 33,
   "metadata": {},
   "outputs": [],
   "source": [
    "import sqlite3\n",
    "from sqlite3 import Error\n",
    "def create_connection(db_file, delete_db=False):\n",
    "    \n",
    "    import os\n",
    "    if delete_db and os.path.exists(db_file):\n",
    "        os.remove(db_file)\n",
    "\n",
    "    conn = None\n",
    "    try:\n",
    "        conn = sqlite3.connect(db_file)\n",
    "        conn.execute(\"PRAGMA foreign_keys = 1\")\n",
    "    except Error as e:\n",
    "        print(e)\n",
    "\n",
    "    return conn\n",
    "\n",
    "\n",
    "def create_table(conn, create_table_sql, drop_table_name=None):\n",
    "    \n",
    "    if drop_table_name: # You can optionally pass drop_table_name to drop the table. \n",
    "        try:\n",
    "            c = conn.cursor()\n",
    "            c.execute(\"\"\"DROP TABLE IF EXISTS %s\"\"\" % (drop_table_name))\n",
    "        except Error as e:\n",
    "            print(e)\n",
    "    \n",
    "    try:\n",
    "        c = conn.cursor()\n",
    "        c.execute(create_table_sql)\n",
    "    except Error as e:\n",
    "        print(e)\n",
    "        \n",
    "def execute_sql_statement(sql_statement, conn):\n",
    "    cur = conn.cursor()\n",
    "    cur.execute(sql_statement)\n",
    "\n",
    "    rows = cur.fetchall()\n",
    "\n",
    "    return rows"
   ]
  },
  {
   "cell_type": "code",
   "execution_count": 41,
   "metadata": {},
   "outputs": [
    {
     "data": {
      "text/plain": [
       "[(0, 'British Isles'),\n",
       " (1, 'Central America'),\n",
       " (2, 'Eastern Europe'),\n",
       " (3, 'North America'),\n",
       " (4, 'Northern Europe'),\n",
       " (5, 'Scandinavia'),\n",
       " (6, 'South America'),\n",
       " (7, 'Southern Europe'),\n",
       " (8, 'Western Europe')]"
      ]
     },
     "execution_count": 41,
     "metadata": {},
     "output_type": "execute_result"
    }
   ],
   "source": [
    "region_list = []\n",
    "with open(\"data.csv\") as file:\n",
    "    i = iter(file)\n",
    "    i.__next__()\n",
    "    for line in i:\n",
    "        if line.split(\"\\t\")[4] not in region_list:\n",
    "            region_list.append(line.split(\"\\t\")[4])\n",
    "        else: continue\n",
    "region_list.sort()\n",
    "for i in range(len(region_list)):\n",
    "    region_list[i] = (i , region_list[i] ) \n",
    "    \n",
    "region_list"
   ]
  },
  {
   "cell_type": "code",
   "execution_count": 42,
   "metadata": {},
   "outputs": [],
   "source": [
    "\n",
    "conno = create_connection(\"pel.db\", True)\n",
    "create_table_sql = \"\"\"CREATE TABLE [regn] (\n",
    "    [RegionID] Integer not null primary key,\n",
    "    [Region] Text not null\n",
    "    );\n",
    "    \"\"\"\n",
    "create_table(conno, create_table_sql)\n"
   ]
  },
  {
   "cell_type": "code",
   "execution_count": null,
   "metadata": {},
   "outputs": [],
   "source": [
    "c = conno.cursor()\n",
    "\n",
    "c.executemany('INSERT INTO regn VALUES(?, ?);',region_list)\n",
    "\n",
    "conno.commit()\n",
    "conno.close()"
   ]
  },
  {
   "cell_type": "code",
   "execution_count": 4,
   "metadata": {},
   "outputs": [],
   "source": [
    "create_table_sql = \"\"\"CREATE TABLE [Region] (\n",
    "    [RegionID] Integer not null primary key,\n",
    "    [Region] Text not null\n",
    "    );\n",
    "    \"\"\"\n",
    "conn= create_connection(\"hello.db\", True)\n",
    "create_table(conn, create_table_sql)"
   ]
  },
  {
   "cell_type": "code",
   "execution_count": 5,
   "metadata": {},
   "outputs": [],
   "source": [
    "def insert_region(conn, values):\n",
    "    \n",
    "    sql = ''' INSERT INTO Region(Region)\n",
    "            VALUES(?) '''\n",
    "    cur = conn.cursor()\n",
    "    cur.execute(sql, values)\n",
    "    return cur.lastrowid\n",
    "    \n",
    "# That the insert_region function is ready, we can start putting in values in the table as follows!\n",
    "conn_norm = create_connection(\"hello.db\")\n",
    "with conn_norm:\n",
    "    for region in region_list:\n",
    "        insert_region(conn_norm, (region, ))"
   ]
  },
  {
   "cell_type": "code",
   "execution_count": 7,
   "metadata": {},
   "outputs": [
    {
     "data": {
      "text/plain": [
       "{'British Isles': 1,\n",
       " 'Central America': 2,\n",
       " 'Eastern Europe': 3,\n",
       " 'North America': 4,\n",
       " 'Northern Europe': 5,\n",
       " 'Scandinavia': 6,\n",
       " 'South America': 7,\n",
       " 'Southern Europe': 8,\n",
       " 'Western Europe': 9}"
      ]
     },
     "execution_count": 7,
     "metadata": {},
     "output_type": "execute_result"
    }
   ],
   "source": [
    "# Fetching all the degrees in a list\n",
    "sql_statement = \"SELECT Region, RegionID from Region\"\n",
    "regions_from_table = execute_sql_statement(sql_statement, conn)\n",
    "regions_from_table\n",
    "\n",
    "region_to_regionid_dictionary = {}\n",
    "\n",
    "for i in range(len(regions_from_table)):\n",
    "    region_to_regionid_dictionary[regions_from_table[i][0]] = regions_from_table[i][1]\n",
    "    \n",
    "region_to_regionid_dictionary"
   ]
  },
  {
   "cell_type": "code",
   "execution_count": 14,
   "metadata": {},
   "outputs": [
    {
     "data": {
      "text/plain": [
       "[['Argentina', 7],\n",
       " ['Austria', 9],\n",
       " ['Belgium', 9],\n",
       " ['Brazil', 7],\n",
       " ['Canada', 4],\n",
       " ['Denmark', 5],\n",
       " ['Finland', 6],\n",
       " ['France', 9],\n",
       " ['Germany', 9],\n",
       " ['Ireland', 1],\n",
       " ['Italy', 8],\n",
       " ['Mexico', 2],\n",
       " ['Norway', 6],\n",
       " ['Poland', 3],\n",
       " ['Portugal', 8],\n",
       " ['Spain', 8],\n",
       " ['Sweden', 5],\n",
       " ['Switzerland', 9],\n",
       " ['UK', 1],\n",
       " ['USA', 4],\n",
       " ['Venezuela', 7]]"
      ]
     },
     "execution_count": 14,
     "metadata": {},
     "output_type": "execute_result"
    }
   ],
   "source": [
    "country_region_list = []\n",
    "with open(\"data.csv\") as file:\n",
    "    i = iter(file)\n",
    "    i.__next__()\n",
    "    for line in i:\n",
    "        if [line.split(\"\\t\")[3], region_to_regionid_dictionary[line.split(\"\\t\")[4]]] not in country_region_list:\n",
    "            country_region_list.append([line.split(\"\\t\")[3], region_to_regionid_dictionary[line.split(\"\\t\")[4]]])\n",
    "        else:\n",
    "            continue\n",
    "\n",
    "country_region_list.sort()\n",
    "country_region_list"
   ]
  },
  {
   "cell_type": "code",
   "execution_count": 16,
   "metadata": {},
   "outputs": [],
   "source": [
    "create_table_sql = \"\"\"CREATE TABLE [Country] (\n",
    "[CountryID] integer not null Primary key,\n",
    "[Country] Text not null,\n",
    "[RegionID] integer not null,\n",
    "foreign key(RegionID) References Region(RegionID)\n",
    ");\n",
    "\n",
    "\"\"\"\n",
    "conn = create_connection(\"hello.db\")\n",
    "\n",
    "# Running the query by passing it to the `create_table` function\n",
    "create_table(conn, create_table_sql)"
   ]
  },
  {
   "cell_type": "code",
   "execution_count": 17,
   "metadata": {},
   "outputs": [],
   "source": [
    "def insert_country_region(conn, values):\n",
    "    sql = ''' INSERT INTO Country(Country, RegionID)\n",
    "            VALUES(?, ?) '''\n",
    "    cur = conn.cursor()\n",
    "    cur.execute(sql, values)\n",
    "    return cur.lastrowid\n",
    "\n",
    "# That the insert_country_region function is ready, we can start putting in values in the table as follows!\n",
    "conn_norm = create_connection(\"hello.db\")\n",
    "\n",
    "with conn_norm:\n",
    "    for country_region in country_region_list:\n",
    "        try:\n",
    "            insert_country_region(conn_norm, (country_region[0], country_region[1]))\n",
    "        except Error:\n",
    "            print(Error)"
   ]
  }
 ],
 "metadata": {
  "kernelspec": {
   "display_name": "Python 3.9.12 ('base')",
   "language": "python",
   "name": "python3"
  },
  "language_info": {
   "codemirror_mode": {
    "name": "ipython",
    "version": 3
   },
   "file_extension": ".py",
   "mimetype": "text/x-python",
   "name": "python",
   "nbconvert_exporter": "python",
   "pygments_lexer": "ipython3",
   "version": "3.9.12"
  },
  "orig_nbformat": 4,
  "vscode": {
   "interpreter": {
    "hash": "cd78fef2128015050713e82ca51c6520b11aee7c9ee8df750520bbbc7384cbaa"
   }
  }
 },
 "nbformat": 4,
 "nbformat_minor": 2
}
